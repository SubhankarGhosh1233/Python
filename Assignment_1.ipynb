{
 "cells": [
  {
   "cell_type": "markdown",
   "id": "5a8c6091",
   "metadata": {},
   "source": [
    "## Q1. What is the purpose of Python&#39;s OOP?"
   ]
  },
  {
   "cell_type": "markdown",
   "id": "c18ce723",
   "metadata": {},
   "source": [
    "### ANS:\n",
    "Object-oriented programming is a programming paradigm that provides a means of structuring programs so that properties and behaviors are bundled into individual objects."
   ]
  },
  {
   "cell_type": "markdown",
   "id": "a6a34036",
   "metadata": {},
   "source": [
    "## Q2. Where does an inheritance search look for an attribute?"
   ]
  },
  {
   "cell_type": "markdown",
   "id": "a94547e5",
   "metadata": {},
   "source": [
    "### ANS:\n",
    "An inheritance search looks for an attribute first in the instance object, then in the class the instance was created from, then in all higher superclasses, progressing from left to right (by default). The search stops at the first place the attribute is found."
   ]
  },
  {
   "cell_type": "markdown",
   "id": "659ac166",
   "metadata": {},
   "source": [
    "## Q3. How do you distinguish between a class object and an instance object?"
   ]
  },
  {
   "cell_type": "markdown",
   "id": "48972060",
   "metadata": {},
   "source": [
    "### ANS:\n",
    "Classes are a kind of factory for creating multiple instances. Classes also support operator overloading methods, which instances inherit, and treat any functions nested in the class as methods for processing instances."
   ]
  },
  {
   "cell_type": "markdown",
   "id": "a7358c34",
   "metadata": {},
   "source": [
    "## Q4. What makes the first argument in a class’s method function special?"
   ]
  },
  {
   "cell_type": "markdown",
   "id": "f565197d",
   "metadata": {},
   "source": [
    "### ANS:\n",
    "It always receives the instance object that is the implied subject of the method call. It’s usually called ‘self’ by convention."
   ]
  },
  {
   "cell_type": "markdown",
   "id": "d13caf77",
   "metadata": {},
   "source": [
    "## Q5. What is the purpose of the __init__ method?"
   ]
  },
  {
   "cell_type": "markdown",
   "id": "824a56de",
   "metadata": {},
   "source": [
    "### ANS:\n",
    "In python if the __init__ method is coded or inherited in a class, Python calls it automatically each time an instance of that class is created."
   ]
  },
  {
   "cell_type": "markdown",
   "id": "0e8e0e44",
   "metadata": {},
   "source": [
    "## Q6. What is the process for creating a class instance?"
   ]
  },
  {
   "cell_type": "markdown",
   "id": "0985ace1",
   "metadata": {},
   "source": [
    "### ANS:\n",
    "Create a class instance by calling the class name as though it were a function; any arguments passed into the class name show up as arguments two and beyond in the __init__ constructor method."
   ]
  },
  {
   "cell_type": "markdown",
   "id": "425851d3",
   "metadata": {},
   "source": [
    "## Q7. What is the process for creating a class?"
   ]
  },
  {
   "cell_type": "markdown",
   "id": "c4c7def4",
   "metadata": {},
   "source": [
    "### ANS:\n",
    "The process for creating a class is-\n",
    "\n",
    "class ClassName():\n",
    " \n",
    " code here"
   ]
  },
  {
   "cell_type": "markdown",
   "id": "75751d0b",
   "metadata": {},
   "source": [
    "## Q8. How would you define the superclasses of a class?"
   ]
  },
  {
   "cell_type": "markdown",
   "id": "04e10933",
   "metadata": {},
   "source": [
    "The class from which a class inherits is called the parent or superclass or base class."
   ]
  }
 ],
 "metadata": {
  "kernelspec": {
   "display_name": "Python 3 (ipykernel)",
   "language": "python",
   "name": "python3"
  },
  "language_info": {
   "codemirror_mode": {
    "name": "ipython",
    "version": 3
   },
   "file_extension": ".py",
   "mimetype": "text/x-python",
   "name": "python",
   "nbconvert_exporter": "python",
   "pygments_lexer": "ipython3",
   "version": "3.9.12"
  }
 },
 "nbformat": 4,
 "nbformat_minor": 5
}
